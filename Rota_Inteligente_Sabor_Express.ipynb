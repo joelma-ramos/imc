{
  "cells": [
    {
      "cell_type": "code",
      "execution_count": null,
      "metadata": {},
      "outputs": [],
      "source": [
        "# Instalação (caso necessário) — o Google Colab já traz a maioria\n",
        "!pip -q install networkx scikit-learn pandas matplotlib"
      ]
    },
    {
      "cell_type": "markdown",
      "metadata": {},
      "source": [
        "## Configurações do Cenário\n",
        "Ajuste estes parâmetros para explorar diferentes condições (por exemplo, hora do almoço com mais tráfego)."
      ]
    },
    {
      "cell_type": "code",
      "execution_count": null,
      "metadata": {},
      "outputs": [],
      "source": [
        "import numpy as np\n",
        "import pandas as pd\n",
        "import networkx as nx\n",
        "import matplotlib.pyplot as plt\n",
        "from sklearn.cluster import KMeans\n",
        "from math import sqrt\n",
        "import random\n",
        "\n",
        "np.random.seed(42)\n",
        "random.seed(42)\n",
        "\n",
        "PARAMS = {\n",
        "    'grid_rows': 10,          # Tamanho da grade (linhas)\n",
        "    'grid_cols': 10,          # Tamanho da grade (colunas)\n",
        "    'edge_base_time': 1.0,    # tempo base por aresta (minutos) antes do tráfego\n",
        "    'traffic_low': 0.8,       # fator mínimo de tráfego\n",
        "    'traffic_high': 1.6,      # fator máximo de tráfego\n",
        "    'n_deliveries': 25,       # quantidade de pedidos (pontos de entrega)\n",
        "    'n_clusters': 3,          # número de zonas/entregadores (K-Means)\n",
        "    'km_per_grid': 0.20,      # cada passo na grade ≈ 0.20 km\n",
        "    'avg_speed_kmh': 18,      # velocidade média urbana (km/h)\n",
        "    'fuel_l_per_km': 0.07,    # consumo médio (litros por km)\n",
        "    'fuel_price': 6.50,       # preço estimado por litro (R$)\n",
        "}\n",
        "\n",
        "PARAMS"
      ]
    },
    {
      "cell_type": "markdown",
      "metadata": {},
      "source": [
        "## 1) Cidade como Grafo\n",
        "Vamos criar uma cidade em **grade** (10x10). Cada **nó** é uma intersecção `(linha, coluna)` e cada **aresta** conecta vizinhos (cima/baixo/esquerda/direita). O **peso** da aresta representa o tempo (em minutos), incluindo um fator de tráfego aleatório para simular horários de pico."
      ]
    },
    {
      "cell_type": "code",
      "execution_count": null,
      "metadata": {},
      "outputs": [],
      "source": [
        "def build_city_graph(rows, cols, base_time, traffic_low, traffic_high):\n",
        "    G = nx.Graph()\n",
        "    # adiciona nós com coordenadas (para visualização e heurística)\n",
        "    for r in range(rows):\n",
        "        for c in range(cols):\n",
        "            G.add_node((r, c), pos=(c, -r))  # y negativo só para desenhar “de cima para baixo”\n",
        "    \n",
        "    # adiciona arestas com peso = tempo (minutos) ajustado por tráfego\n",
        "    for r in range(rows):\n",
        "        for c in range(cols):\n",
        "            if r + 1 < rows:\n",
        "                traffic = np.random.uniform(traffic_low, traffic_high)\n",
        "                G.add_edge((r, c), (r+1, c), weight=base_time * traffic)\n",
        "            if c + 1 < cols:\n",
        "                traffic = np.random.uniform(traffic_low, traffic_high)\n",
        "                G.add_edge((r, c), (r, c+1), weight=base_time * traffic)\n",
        "    return G\n",
        "\n",
        "G = build_city_graph(\n",
        "    PARAMS['grid_rows'], PARAMS['grid_cols'],\n",
        "    PARAMS['edge_base_time'], PARAMS['traffic_low'], PARAMS['traffic_high']\n",
        ")\n",
        "len(G.nodes()), len(G.edges())"
      ]
    },
    {
      "cell_type": "markdown",
      "metadata": {},
      "source": [
        "### Visualização do Grafo da Cidade\n",
        "Os nós representam intersecções. *Não definimos cores específicas*, apenas a estrutura e os marcadores padrão."
      ]
    },
    {
      "cell_type": "code",
      "execution_count": null,
      "metadata": {},
      "outputs": [],
      "source": []
    },
    {
      "cell_type": "code",
      "execution_count": null,
      "id": "1dcdf500",
      "metadata": {},
      "outputs": [],
      "source": [
        "plt.figure(figsize=(6, 6))\n",
        "pos = nx.get_node_attributes(G, 'pos')\n",
        "nx.draw(G, pos, node_size=30, with_labels=False)\n",
        "plt.title('Grafo da Cidade (Grade)')\n",
        "plt.show()"
      ]
    },
    {
      "cell_type": "markdown",
      "metadata": {},
      "source": [
        "## 2) Pedidos e Restaurante (Origem)\n",
        "- Restaurante no **centro** da grade.\n",
        "- Pedidos são pontos aleatórios (nós da grade)."
      ]
    },
    {
      "cell_type": "code",
      "execution_count": null,
      "metadata": {},
      "outputs": [],
      "source": [
        "rows, cols = PARAMS['grid_rows'], PARAMS['grid_cols']\n",
        "origin = (rows // 2, cols // 2)\n",
        "\n",
        "all_nodes = list(G.nodes())\n",
        "deliveries = random.sample([n for n in all_nodes if n != origin], PARAMS['n_deliveries'])\n",
        "\n",
        "df_del = pd.DataFrame(deliveries, columns=['r', 'c'])\n",
        "df_del.head()"
      ]
    },
    {
      "cell_type": "markdown",
      "metadata": {},
      "source": [
        "### Visualização: Origem e Pedidos"
      ]
    },
    {
      "cell_type": "code",
      "execution_count": null,
      "metadata": {},
      "outputs": [],
      "source": [
        "plt.figure(figsize=(6, 6))\n",
        "nx.draw(G, pos, node_size=10, with_labels=False)\n",
        "x_origin, y_origin = pos[origin]\n",
        "plt.scatter([x_origin], [y_origin], s=120, marker='*')\n",
        "xs = [pos[(r,c)][0] for r,c in deliveries]\n",
        "ys = [pos[(r,c)][1] for r,c in deliveries]\n",
        "plt.scatter(xs, ys, s=40, marker='o')\n",
        "plt.title('Restaurante (★) e Pedidos (o)')\n",
        "plt.show()"
      ]
    },
    {
      "cell_type": "markdown",
      "metadata": {},
      "source": [
        "## 3) Algoritmo A* (A-estrela)\n",
        "Usaremos A* com **heurística Manhattan** (distância em grade) para encontrar caminhos mais rápidos entre dois nós. O peso da aresta já considera o tráfego simulado."
      ]
    },
    {
      "cell_type": "code",
      "execution_count": null,
      "metadata": {},
      "outputs": [],
      "source": [
        "def manhattan(u, v):\n",
        "    (r1, c1), (r2, c2) = u, v\n",
        "    return abs(r1 - r2) + abs(c1 - c2)\n",
        "\n",
        "def astar_path(G, source, target):\n",
        "    return nx.astar_path(G, source, target, heuristic=manhattan, weight='weight')\n",
        "\n",
        "def path_time(G, path):\n",
        "    return sum(G[u][v]['weight'] for u, v in zip(path[:-1], path[1:]))\n",
        "\n",
        "# Teste rápido com o primeiro pedido\n",
        "sample_target = deliveries[0]\n",
        "p = astar_path(G, origin, sample_target)\n",
        "path_time(G, p)"
      ]
    },
    {
      "cell_type": "markdown",
      "metadata": {},
      "source": [
        "## 4) Rota Multi-Paradas (Heurística Vizinho Mais Próximo)\n",
        "Problema real é visitar **vários** destinos. Usamos uma heurística simples: sempre ir ao próximo destino com **menor tempo A*** a partir do ponto atual.\n",
        "\n",
        "> *Observação:* Resolver exatamente é um problema complexo (TSP). A heurística dá uma **boa aproximação** com custo computacional baixo."
      ]
    },
    {
      "cell_type": "code",
      "execution_count": null,
      "metadata": {},
      "outputs": [],
      "source": [
        "def nearest_neighbor_route(G, origin, targets):\n",
        "    remaining = set(targets)\n",
        "    current = origin\n",
        "    full_path = []\n",
        "    total_time = 0.0\n",
        "    visit_order = []\n",
        "    \n",
        "    while remaining:\n",
        "        # escolhe o próximo destino com menor tempo A*\n",
        "        best = None\n",
        "        best_time = float('inf')\n",
        "        best_path = None\n",
        "        for t in remaining:\n",
        "            p = astar_path(G, current, t)\n",
        "            ttime = path_time(G, p)\n",
        "            if ttime < best_time:\n",
        "                best = t\n",
        "                best_time = ttime\n",
        "                best_path = p\n",
        "        # atualiza\n",
        "        if full_path:\n",
        "            full_path.extend(best_path[1:])\n",
        "        else:\n",
        "            full_path.extend(best_path)\n",
        "        total_time += best_time\n",
        "        visit_order.append(best)\n",
        "        current = best\n",
        "        remaining.remove(best)\n",
        "    return full_path, total_time, visit_order\n",
        "\n",
        "route_nn_path, route_nn_time, route_nn_order = nearest_neighbor_route(G, origin, deliveries)\n",
        "route_nn_time"
      ]
    },
    {
      "cell_type": "markdown",
      "metadata": {},
      "source": [
        "### Visualização: Rota com Heurística do Vizinho Mais Próximo"
      ]
    },
    {
      "cell_type": "code",
      "execution_count": null,
      "metadata": {},
      "outputs": [],
      "source": [
        "plt.figure(figsize=(6, 6))\n",
        "nx.draw(G, pos, node_size=10, with_labels=False)\n",
        "# desenha a rota destacando as arestas do caminho encontrado\n",
        "path_edges = list(zip(route_nn_path[:-1], route_nn_path[1:]))\n",
        "nx.draw_networkx_nodes(G, pos, nodelist=[origin], node_size=120, node_shape='*')\n",
        "nx.draw_networkx_nodes(G, pos, nodelist=deliveries, node_size=40, node_shape='o')\n",
        "nx.draw_networkx_edges(G, pos, edgelist=path_edges, width=2.5)\n",
        "plt.title('Rota — Vizinho Mais Próximo (A*)')\n",
        "plt.show()"
      ]
    },
    {
      "cell_type": "markdown",
      "metadata": {},
      "source": [
        "## 5) Agrupamento de Entregas (K-Means)\n",
        "Agrupamos os pedidos em **K** zonas. A ideia é atribuir cada zona para um **entregador** diferente, reduzindo deslocamentos totais."
      ]
    },
    {
      "cell_type": "code",
      "execution_count": null,
      "metadata": {},
      "outputs": [],
      "source": [
        "coords = df_del[['r','c']].values\n",
        "k = PARAMS['n_clusters']\n",
        "kmeans = KMeans(n_clusters=k, n_init=10, random_state=42)\n",
        "labels = kmeans.fit_predict(coords)\n",
        "df_del['cluster'] = labels\n",
        "df_del.head()"
      ]
    },
    {
      "cell_type": "markdown",
      "metadata": {},
      "source": [
        "### Visualização: Clusters (marcadores diferentes por zona)\n",
        "Para seguir a regra de **não definir cores específicas**, usamos **marcadores diferentes** para cada cluster."
      ]
    },
    {
      "cell_type": "code",
      "execution_count": null,
      "metadata": {},
      "outputs": [],
      "source": [
        "markers = ['o','s','^','D','P','X','v','<','>','h']\n",
        "plt.figure(figsize=(6, 6))\n",
        "nx.draw(G, pos, node_size=10, with_labels=False)\n",
        "for cl in sorted(df_del['cluster'].unique()):\n",
        "    sub = df_del[df_del['cluster']==cl]\n",
        "    xs = [pos[(r,c)][0] for r,c in sub[['r','c']].itertuples(index=False, name=None)]\n",
        "    ys = [pos[(r,c)][1] for r,c in sub[['r','c']].itertuples(index=False, name=None)]\n",
        "    plt.scatter(xs, ys, s=60, marker=markers[cl % len(markers)], label=f'Zona {cl}')\n",
        "x0,y0 = pos[origin]\n",
        "plt.scatter([x0],[y0], s=120, marker='*', label='Restaurante')\n",
        "plt.legend()\n",
        "plt.title('Pedidos Agrupados em Zonas (K-Means)')\n",
        "plt.show()"
      ]
    },
    {
      "cell_type": "markdown",
      "metadata": {},
      "source": [
        "## 6) Rotas por Zona (um entregador por cluster)\n",
        "Para cada cluster, calculamos a rota por **Vizinho Mais Próximo + A***.\n",
        "Em seguida, somamos os tempos para comparar com uma rota única."
      ]
    },
    {
      "cell_type": "code",
      "execution_count": null,
      "metadata": {},
      "outputs": [],
      "source": [
        "cluster_routes = {}\n",
        "total_time_clusters = 0.0\n",
        "for cl in sorted(df_del['cluster'].unique()):\n",
        "    points = [tuple(x) for x in df_del[df_del['cluster']==cl][['r','c']].values]\n",
        "    rpath, rtime, order = nearest_neighbor_route(G, origin, points)\n",
        "    cluster_routes[cl] = {'path': rpath, 'time': rtime, 'order': order}\n",
        "    total_time_clusters += rtime\n",
        "\n",
        "total_time_clusters"
      ]
    },
    {
      "cell_type": "markdown",
      "metadata": {},
      "source": [
        "### Visualização: Rotas por Zona\n",
        "Desenhamos cada rota de cluster com **estilos de linha diferentes** para distinção (sem definir cores manualmente)."
      ]
    },
    {
      "cell_type": "code",
      "execution_count": null,
      "metadata": {},
      "outputs": [],
      "source": [
        "linestyles = ['-', '--', ':', '-.']\n",
        "plt.figure(figsize=(6, 6))\n",
        "nx.draw(G, pos, node_size=10, with_labels=False)\n",
        "nx.draw_networkx_nodes(G, pos, nodelist=[origin], node_size=120, node_shape='*')\n",
        "for cl, data in cluster_routes.items():\n",
        "    pe = list(zip(data['path'][:-1], data['path'][1:]))\n",
        "    nx.draw_networkx_edges(G, pos, edgelist=pe, width=2.2, style=linestyles[cl % len(linestyles)])\n",
        "plt.title('Rotas por Zona (um entregador por cluster)')\n",
        "plt.show()"
      ]
    },
    {
      "cell_type": "markdown",
      "metadata": {},
      "source": [
        "## 7) Baseline: Ordem Aleatória\n",
        "Para ter uma referência simples (*baseline*), calculamos o tempo total seguindo uma **ordem aleatória** dos pedidos (ainda usando A* entre cada par)."
      ]
    },
    {
      "cell_type": "code",
      "execution_count": null,
      "metadata": {},
      "outputs": [],
      "source": [
        "def random_route_time(G, origin, targets):\n",
        "    order = list(targets)\n",
        "    random.shuffle(order)\n",
        "    current = origin\n",
        "    ttotal = 0.0\n",
        "    for t in order:\n",
        "        p = astar_path(G, current, t)\n",
        "        ttotal += path_time(G, p)\n",
        "        current = t\n",
        "    return ttotal, order\n",
        "\n",
        "baseline_time, baseline_order = random_route_time(G, origin, deliveries)\n",
        "baseline_time"
      ]
    },
    {
      "cell_type": "markdown",
      "metadata": {},
      "source": [
        "## 8) Métricas e Comparações\n",
        "Transformamos o tempo em **distância aproximada** e **custo de combustível**.\n",
        "\n",
        "- Cada passo na grade ≈ `km_per_grid` km.\n",
        "- Estimamos a distância a partir do tempo e da velocidade média.\n",
        "- Custo = `distância * fuel_l_per_km * fuel_price`."
      ]
    },
    {
      "cell_type": "code",
      "execution_count": null,
      "metadata": {},
      "outputs": [],
      "source": [
        "def time_to_distance_km(minutes, avg_speed_kmh):\n",
        "    hours = minutes / 60.0\n",
        "    return hours * avg_speed_kmh\n",
        "\n",
        "def fuel_cost(dist_km, l_per_km, price):\n",
        "    return dist_km * l_per_km * price\n",
        "\n",
        "t_nn = route_nn_time\n",
        "t_clusters = total_time_clusters\n",
        "t_base = baseline_time\n",
        "\n",
        "d_nn = time_to_distance_km(t_nn, PARAMS['avg_speed_kmh'])\n",
        "d_clusters = time_to_distance_km(t_clusters, PARAMS['avg_speed_kmh'])\n",
        "d_base = time_to_distance_km(t_base, PARAMS['avg_speed_kmh'])\n",
        "\n",
        "c_nn = fuel_cost(d_nn, PARAMS['fuel_l_per_km'], PARAMS['fuel_price'])\n",
        "c_clusters = fuel_cost(d_clusters, PARAMS['fuel_l_per_km'], PARAMS['fuel_price'])\n",
        "c_base = fuel_cost(d_base, PARAMS['fuel_l_per_km'], PARAMS['fuel_price'])\n",
        "\n",
        "compare = pd.DataFrame({\n",
        "    'Cenário': ['Baseline (ordem aleatória)', 'Uma rota (Vizinho+ A*)', 'Zonas (K-Means + rotas)'],\n",
        "    'Tempo Total (min)': [t_base, t_nn, t_clusters],\n",
        "    'Distância Est. (km)': [d_base, d_nn, d_clusters],\n",
        "    'Custo Combustível (R$)': [c_base, c_nn, c_clusters]\n",
        "})\n",
        "compare"
      ]
    },
    {
      "cell_type": "code",
      "execution_count": null,
      "metadata": {},
      "outputs": [],
      "source": [
        "import matplotlib.ticker as mtick\n",
        "\n",
        "plt.figure(figsize=(7,4))\n",
        "plt.bar(compare['Cenário'], compare['Tempo Total (min)'])\n",
        "plt.title('Tempo Total por Cenário (min)')\n",
        "plt.xticks(rotation=20)\n",
        "plt.ylabel('Minutos')\n",
        "plt.tight_layout()\n",
        "plt.show()\n",
        "\n",
        "plt.figure(figsize=(7,4))\n",
        "plt.bar(compare['Cenário'], compare['Custo Combustível (R$)'])\n",
        "plt.title('Custo Estimado de Combustível por Cenário (R$)')\n",
        "plt.xticks(rotation=20)\n",
        "plt.ylabel('R$')\n",
        "plt.tight_layout()\n",
        "plt.show()"
      ]
    },
    {
      "cell_type": "markdown",
      "metadata": {},
      "source": [
        "## 9) Tabela: Ordem de Visita\n",
        "Mostramos a sequência de entregas para os dois métodos principais."
      ]
    },
    {
      "cell_type": "code",
      "execution_count": null,
      "metadata": {},
      "outputs": [],
      "source": [
        "order_nn_df = pd.DataFrame(route_nn_order, columns=['r','c'])\n",
        "cluster_order_rows = []\n",
        "for cl, data in cluster_routes.items():\n",
        "    for (r,c) in data['order']:\n",
        "        cluster_order_rows.append({'cluster': cl, 'r': r, 'c': c})\n",
        "order_clusters_df = pd.DataFrame(cluster_order_rows)\n",
        "order_nn_df.head(), order_clusters_df.head()"
      ]
    },
    {
      "cell_type": "markdown",
      "metadata": {},
      "source": [
        "## 10) Conclusões e Próximos Passos\n",
        "**Resultados desta simulação**\n",
        "- A rota com **Vizinho Mais Próximo + A*** já reduz tempo em relação ao baseline (ordem aleatória).\n",
        "- Ao **dividir em zonas (K-Means)** e otimizar cada rota, o **tempo total** tende a cair ainda mais quando vários entregadores atuam simultaneamente.\n",
        "\n",
        "**Próximos passos práticos**\n",
        "1. Incorporar **janelas de tempo** (clientes com horários específicos).\n",
        "2. Considerar **capacidade** do entregador (peso/volume) e pausas.\n",
        "3. Integrar **tráfego em tempo real** (dados reais da cidade).\n",
        "4. Trocar a heurística por **metaheurísticas** (ex.: Simulated Annealing, VNS) para rotas ainda melhores.\n",
        "5. Integrar com **app mobile** para navegação e check-in de entregas.\n",
        "\n",
        "_Dica para apresentação_: Mostre os gráficos, compare as barras de tempo/custo e explique a intuição: “dividir para conquistar” + “sempre pegar o próximo mais rápido”."
      ]
    },
    {
      "cell_type": "markdown",
      "metadata": {},
      "source": [
        "---\n",
        "### (Opcional) Reexecutar com Novas Sementes\n",
        "Para mudar os resultados, altere a semente aleatória e rode as células de novo."
      ]
    },
    {
      "cell_type": "code",
      "execution_count": null,
      "metadata": {},
      "outputs": [],
      "source": [
        "def reseed(seed=123):\n",
        "    np.random.seed(seed)\n",
        "    random.seed(seed)\n",
        "    print('Sementes redefinidas:', seed)\n",
        "\n",
        "reseed(123)"
      ]
    }
  ],
  "metadata": {
    "colab": {
      "provenance": []
    },
    "kernelspec": {
      "display_name": "Python 3",
      "language": "python",
      "name": "python3"
    },
    "language_info": {
      "codemirror_mode": {
        "name": "ipython",
        "version": 3
      },
      "file_extension": ".py",
      "mimetype": "text/x-python",
      "name": "python",
      "nbconvert_exporter": "python",
      "pygments_lexer": "ipython3",
      "version": "3.10"
    }
  },
  "nbformat": 4,
  "nbformat_minor": 5
}
