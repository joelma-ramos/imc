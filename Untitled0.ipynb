{
  "nbformat": 4,
  "nbformat_minor": 0,
  "metadata": {
    "colab": {
      "provenance": [],
      "authorship_tag": "ABX9TyN3MS59k/ROXtJXr9mEPN9M",
      "include_colab_link": true
    },
    "kernelspec": {
      "name": "python3",
      "display_name": "Python 3"
    },
    "language_info": {
      "name": "python"
    }
  },
  "cells": [
    {
      "cell_type": "markdown",
      "metadata": {
        "id": "view-in-github",
        "colab_type": "text"
      },
      "source": [
        "<a href=\"https://colab.research.google.com/github/joelma-ramos/imc/blob/main/Untitled0.ipynb\" target=\"_parent\"><img src=\"https://colab.research.google.com/assets/colab-badge.svg\" alt=\"Open In Colab\"/></a>"
      ]
    },
    {
      "cell_type": "code",
      "execution_count": 1,
      "metadata": {
        "colab": {
          "base_uri": "https://localhost:8080/"
        },
        "id": "DMFGSjKNu6Co",
        "outputId": "8f01b012-1313-464a-a0ec-8760f867aadf"
      },
      "outputs": [
        {
          "output_type": "stream",
          "name": "stdout",
          "text": [
            "\n",
            "Resumo estatístico:\n",
            "             preco              data_transacao   quantidade     desconto  \\\n",
            "count  5000.000000                        5000  5000.000000  5000.000000   \n",
            "mean   2516.715370  2023-12-19 10:01:20.640000     2.503400     0.254990   \n",
            "min     100.260000         2023-01-01 00:00:00     1.000000     0.000000   \n",
            "25%    1312.432500         2023-06-30 00:00:00     2.000000     0.130000   \n",
            "50%    2500.105000         2023-12-20 00:00:00     3.000000     0.260000   \n",
            "75%    3710.317500         2024-06-10 00:00:00     3.000000     0.380000   \n",
            "max    4997.580000         2024-11-30 00:00:00     4.000000     0.500000   \n",
            "std    1397.025087                         NaN     1.115812     0.143537   \n",
            "\n",
            "        valor_total  \n",
            "count   5000.000000  \n",
            "mean    4705.147282  \n",
            "min       65.767000  \n",
            "25%     1781.758800  \n",
            "50%     3694.695700  \n",
            "75%     6893.528800  \n",
            "max    19153.960000  \n",
            "std     3712.398672  \n",
            "\n",
            "Quantidade de vendas por categoria:\n",
            "categoria\n",
            "Informática    1679\n",
            "Acessórios     1663\n",
            "Eletrônicos    1658\n",
            "Name: count, dtype: int64\n"
          ]
        },
        {
          "output_type": "stream",
          "name": "stderr",
          "text": [
            "<ipython-input-1-2a7d51cd806f>:36: FutureWarning: \n",
            "\n",
            "Passing `palette` without assigning `hue` is deprecated and will be removed in v0.14.0. Assign the `x` variable to `hue` and set `legend=False` for the same effect.\n",
            "\n",
            "  sns.countplot(data=df, x='categoria', palette='viridis')\n",
            "<ipython-input-1-2a7d51cd806f>:52: FutureWarning: \n",
            "\n",
            "Passing `palette` without assigning `hue` is deprecated and will be removed in v0.14.0. Assign the `x` variable to `hue` and set `legend=False` for the same effect.\n",
            "\n",
            "  sns.barplot(data=df.groupby('produto').sum(numeric_only=True).sort_values('valor_total', ascending=False).reset_index(), x='produto', y='valor_total', palette='magma')\n",
            "<ipython-input-1-2a7d51cd806f>:60: FutureWarning: \n",
            "\n",
            "Passing `palette` without assigning `hue` is deprecated and will be removed in v0.14.0. Assign the `x` variable to `hue` and set `legend=False` for the same effect.\n",
            "\n",
            "  sns.boxplot(data=df, x='categoria', y='desconto', palette='coolwarm')\n"
          ]
        },
        {
          "output_type": "stream",
          "name": "stdout",
          "text": [
            "\n",
            "Análises e gráficos salvos com sucesso!\n"
          ]
        }
      ],
      "source": [
        "import pandas as pd\n",
        "import numpy as np\n",
        "import matplotlib.pyplot as plt\n",
        "import seaborn as sns\n",
        "from datetime import datetime, timedelta\n",
        "import random\n",
        "\n",
        "# 1. GERANDO DADOS FICTÍCIOS\n",
        "np.random.seed(42)\n",
        "produtos = ['Smartphone', 'Notebook', 'Fone de Ouvido', 'Smartwatch', 'TV', 'Tablet', 'Teclado', 'Mouse']\n",
        "categorias = ['Eletrônicos', 'Informática', 'Acessórios']\n",
        "localizacoes = ['SP', 'RJ', 'MG', 'RS', 'BA', 'PR', 'SC', 'PE']\n",
        "\n",
        "# Simula 5000 vendas\n",
        "n = 5000\n",
        "df = pd.DataFrame({\n",
        "    'produto': np.random.choice(produtos, n),\n",
        "    'categoria': np.random.choice(categorias, n),\n",
        "    'preco': np.round(np.random.uniform(100, 5000, n), 2),\n",
        "    'data_transacao': [datetime(2023, 1, 1) + timedelta(days=random.randint(0, 699)) for _ in range(n)],\n",
        "    'local_cliente': np.random.choice(localizacoes, n),\n",
        "    'quantidade': np.random.randint(1, 5, n),\n",
        "    'desconto': np.round(np.random.uniform(0, 0.5, n), 2)\n",
        "})\n",
        "df['valor_total'] = df['preco'] * df['quantidade'] * (1 - df['desconto'])\n",
        "\n",
        "# 2. ANÁLISE EXPLORATÓRIA\n",
        "print(\"\\nResumo estatístico:\")\n",
        "print(df.describe())\n",
        "\n",
        "print(\"\\nQuantidade de vendas por categoria:\")\n",
        "print(df['categoria'].value_counts())\n",
        "\n",
        "# 3. VISUALIZAÇÕES\n",
        "plt.figure(figsize=(10, 5))\n",
        "sns.countplot(data=df, x='categoria', palette='viridis')\n",
        "plt.title('Quantidade de Vendas por Categoria')\n",
        "plt.savefig('grafico_vendas_categoria.png')\n",
        "plt.close()\n",
        "\n",
        "plt.figure(figsize=(12, 5))\n",
        "df['mes'] = df['data_transacao'].dt.to_period('M')\n",
        "df.groupby('mes')['valor_total'].sum().plot()\n",
        "plt.title('Evolução das Vendas por Mês')\n",
        "plt.ylabel('Valor Total em R$')\n",
        "plt.xticks(rotation=45)\n",
        "plt.tight_layout()\n",
        "plt.savefig('grafico_vendas_mes.png')\n",
        "plt.close()\n",
        "\n",
        "plt.figure(figsize=(10, 5))\n",
        "sns.barplot(data=df.groupby('produto').sum(numeric_only=True).sort_values('valor_total', ascending=False).reset_index(), x='produto', y='valor_total', palette='magma')\n",
        "plt.title('Top Produtos por Faturamento')\n",
        "plt.xticks(rotation=45)\n",
        "plt.tight_layout()\n",
        "plt.savefig('grafico_top_produtos.png')\n",
        "plt.close()\n",
        "\n",
        "plt.figure(figsize=(10, 5))\n",
        "sns.boxplot(data=df, x='categoria', y='desconto', palette='coolwarm')\n",
        "plt.title('Descontos por Categoria')\n",
        "plt.tight_layout()\n",
        "plt.savefig('grafico_desconto_categoria.png')\n",
        "plt.close()\n",
        "\n",
        "plt.figure(figsize=(10, 5))\n",
        "sns.heatmap(df[['preco', 'quantidade', 'desconto', 'valor_total']].corr(), annot=True, cmap='crest')\n",
        "plt.title('Correlação entre Variáveis Numéricas')\n",
        "plt.tight_layout()\n",
        "plt.savefig('grafico_correlacao.png')\n",
        "plt.close()\n",
        "\n",
        "print(\"\\nAnálises e gráficos salvos com sucesso!\")\n"
      ]
    }
  ]
}